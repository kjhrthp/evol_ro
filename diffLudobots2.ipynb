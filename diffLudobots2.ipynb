{
  "nbformat": 4,
  "nbformat_minor": 0,
  "metadata": {
    "colab": {
      "provenance": [],
      "authorship_tag": "ABX9TyOAE+NrC/EO4wZ085YUXjy/",
      "include_colab_link": true
    },
    "kernelspec": {
      "name": "python3",
      "display_name": "Python 3"
    },
    "language_info": {
      "name": "python"
    }
  },
  "cells": [
    {
      "cell_type": "markdown",
      "metadata": {
        "id": "view-in-github",
        "colab_type": "text"
      },
      "source": [
        "<a href=\"https://colab.research.google.com/github/kjhrthp/evol_ro/blob/master/diffLudobots2.ipynb\" target=\"_parent\"><img src=\"https://colab.research.google.com/assets/colab-badge.svg\" alt=\"Open In Colab\"/></a>"
      ]
    },
    {
      "cell_type": "code",
      "execution_count": 1,
      "metadata": {
        "colab": {
          "base_uri": "https://localhost:8080/"
        },
        "id": "rL76QR5P1Trt",
        "outputId": "469b1f40-8b21-45c6-c836-d8103a9f938d"
      },
      "outputs": [
        {
          "output_type": "stream",
          "name": "stdout",
          "text": [
            "Collecting taichi\n",
            "  Downloading taichi-1.7.3-cp310-cp310-manylinux_2_27_x86_64.whl.metadata (12 kB)\n",
            "Requirement already satisfied: numpy in /usr/local/lib/python3.10/dist-packages (from taichi) (1.26.4)\n",
            "Collecting colorama (from taichi)\n",
            "  Downloading colorama-0.4.6-py2.py3-none-any.whl.metadata (17 kB)\n",
            "Collecting dill (from taichi)\n",
            "  Downloading dill-0.3.9-py3-none-any.whl.metadata (10 kB)\n",
            "Requirement already satisfied: rich in /usr/local/lib/python3.10/dist-packages (from taichi) (13.9.4)\n",
            "Requirement already satisfied: markdown-it-py>=2.2.0 in /usr/local/lib/python3.10/dist-packages (from rich->taichi) (3.0.0)\n",
            "Requirement already satisfied: pygments<3.0.0,>=2.13.0 in /usr/local/lib/python3.10/dist-packages (from rich->taichi) (2.18.0)\n",
            "Requirement already satisfied: typing-extensions<5.0,>=4.0.0 in /usr/local/lib/python3.10/dist-packages (from rich->taichi) (4.12.2)\n",
            "Requirement already satisfied: mdurl~=0.1 in /usr/local/lib/python3.10/dist-packages (from markdown-it-py>=2.2.0->rich->taichi) (0.1.2)\n",
            "Downloading taichi-1.7.3-cp310-cp310-manylinux_2_27_x86_64.whl (55.0 MB)\n",
            "\u001b[2K   \u001b[90m━━━━━━━━━━━━━━━━━━━━━━━━━━━━━━━━━━━━━━━━\u001b[0m \u001b[32m55.0/55.0 MB\u001b[0m \u001b[31m15.2 MB/s\u001b[0m eta \u001b[36m0:00:00\u001b[0m\n",
            "\u001b[?25hDownloading colorama-0.4.6-py2.py3-none-any.whl (25 kB)\n",
            "Downloading dill-0.3.9-py3-none-any.whl (119 kB)\n",
            "\u001b[2K   \u001b[90m━━━━━━━━━━━━━━━━━━━━━━━━━━━━━━━━━━━━━━━━\u001b[0m \u001b[32m119.4/119.4 kB\u001b[0m \u001b[31m9.2 MB/s\u001b[0m eta \u001b[36m0:00:00\u001b[0m\n",
            "\u001b[?25hInstalling collected packages: dill, colorama, taichi\n",
            "Successfully installed colorama-0.4.6 dill-0.3.9 taichi-1.7.3\n"
          ]
        }
      ],
      "source": [
        "!pip3 install taichi"
      ]
    },
    {
      "cell_type": "code",
      "source": [
        "# Taichi is differentiable programming language that's going to let us do this\n",
        "import taichi as ti\n",
        "\n",
        "\n",
        "max_steps = 10 # 10frame\n",
        "\n",
        "ground_height = 0.1\n",
        "\n",
        "startingObjectPositions = []\n",
        "startingObjectPositions.append([0.1, 0.2])\n",
        "\n",
        "n_objects = len(startingObjectPositions)\n",
        "# above this comment is initialization,\n",
        "# below it draws the object,\n",
        "\n",
        "real = ti.f32\n",
        "ti.init( default_fp = real)\n",
        "# taichi의 differentiable routine을 사용하여 object를 움직여보자\n",
        "# taichi의 data structure는 field이다.\n",
        "# 여기부터 object의 포지션을 저장하는 field를 정의해보자.\n",
        "vec = lambda: ti.Vector.field(2, dtype=real)\n",
        "# 포지션 필드에 들어가는 벡터는 길이가 2이고 실수값으로 구성되어있다고 정의\n",
        "positions = vec()\n",
        "\n",
        "ti.root.dense(ti.i, max_steps).dense(ti.j, n_objects).place(positions)\n",
        "# taichi가 max_steps x n_objects의 저장공간을 가지는 필드를 만들것이다.\n",
        "# 결과는 positions라 불리는곳에 저장될것이다.\n",
        "\n",
        "\n",
        "\n",
        "def Draw(): # encapsulate\n",
        "\n",
        "  for timeStep in range(0, max_steps):\n",
        "    gui = ti.GUI(\"Robot\", (512, 512), background_color=0xFFFFFF, show_gui = False)\n",
        "\n",
        "    gui.line(begin=(0, ground_height), end = (1,ground_height), color = 0x0, radius = 3)\n",
        "\n",
        "    for object in startingObjectPositions:\n",
        "      x = object[0]\n",
        "      y = object[1]\n",
        "      gui.circle((x,y), color = 0x0, radius=7)\n",
        "\n",
        "    gui.show('test'+str(timeStep)+'.png')\n",
        "\n",
        "# object의 initial position을 positions의 first entry에 저장한다.\n",
        "\n",
        "def Initialize():\n",
        "  for objectIndex in range(n_objects):\n",
        "    positions[0,objectIndex] = startingObjectPositions[objectIndex]\n",
        "\n",
        "\n",
        "\n",
        "\n",
        "def Simulate():\n",
        "\n",
        "  for timeStep in range(1, max_steps):\n",
        "\n",
        "    for objectIndex in range(n_objects):\n",
        "\n",
        "      positions[timeStep,objectIndex] = positions[timeStep-1, objectIndex]\n",
        "  print(positions)\n",
        "  exit()\n",
        "\n",
        "\n",
        "Initialize()\n",
        "\n",
        "Simulate()\n",
        "\n",
        "Draw()"
      ],
      "metadata": {
        "colab": {
          "base_uri": "https://localhost:8080/"
        },
        "id": "bkCJWqNh1tqT",
        "outputId": "d6c98746-3846-4026-8713-fbfb1654f5af"
      },
      "execution_count": 1,
      "outputs": [
        {
          "output_type": "stream",
          "name": "stdout",
          "text": [
            "[Taichi] version 1.7.3, llvm 15.0.4, commit 5ec301be, linux, python 3.10.12\n",
            "[Taichi] Starting on arch=x64\n",
            "[[[0.1 0.2]]\n",
            "\n",
            " [[0.1 0.2]]\n",
            "\n",
            " [[0.1 0.2]]\n",
            "\n",
            " [[0.1 0.2]]\n",
            "\n",
            " [[0.1 0.2]]\n",
            "\n",
            " [[0.1 0.2]]\n",
            "\n",
            " [[0.1 0.2]]\n",
            "\n",
            " [[0.1 0.2]]\n",
            "\n",
            " [[0.1 0.2]]\n",
            "\n",
            " [[0.1 0.2]]]\n"
          ]
        }
      ]
    },
    {
      "cell_type": "code",
      "source": [
        "# creates an mp4 from the png files.\n",
        "import os\n",
        "os.system(\"rm movie.mp4\")\n",
        "os.system(\" ffmpeg -i test%d.png movie.mp4\")"
      ],
      "metadata": {
        "colab": {
          "base_uri": "https://localhost:8080/"
        },
        "id": "PCqY8KVU6gxB",
        "outputId": "09735fbb-1c63-443b-baf9-d27972a4f79b"
      },
      "execution_count": 1,
      "outputs": [
        {
          "output_type": "execute_result",
          "data": {
            "text/plain": [
              "0"
            ]
          },
          "metadata": {},
          "execution_count": 1
        }
      ]
    },
    {
      "cell_type": "code",
      "source": [
        "# play the video directly\n",
        "from IPython.display import HTML\n",
        "from base64 import b64encode\n",
        "mp4 = open('movie.mp4', 'rb').read()\n",
        "data_url = \"data:video/mp4;base64,\" + b64encode(mp4).decode()\n",
        "HTML('<video width=512 controls><source src=\"%s\" type=\"vidieo/mp4\"></video>' % data_url)"
      ],
      "metadata": {
        "colab": {
          "base_uri": "https://localhost:8080/",
          "height": 276
        },
        "collapsed": true,
        "id": "qvJMGmq6IKe1",
        "outputId": "3016934e-cb75-4a0f-f054-1427c89b05c6"
      },
      "execution_count": 2,
      "outputs": [
        {
          "output_type": "execute_result",
          "data": {
            "text/plain": [
              "<IPython.core.display.HTML object>"
            ],
            "text/html": [
              "<video width=512 controls><source src=\"data:video/mp4;base64,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\" type=\"vidieo/mp4\"></video>"
            ]
          },
          "metadata": {},
          "execution_count": 2
        }
      ]
    },
    {
      "cell_type": "code",
      "source": [],
      "metadata": {
        "id": "1fabdvY_KeQh"
      },
      "execution_count": null,
      "outputs": []
    }
  ]
}