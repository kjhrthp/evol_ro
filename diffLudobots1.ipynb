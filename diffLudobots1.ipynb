{
  "nbformat": 4,
  "nbformat_minor": 0,
  "metadata": {
    "colab": {
      "provenance": [],
      "authorship_tag": "ABX9TyNHGndYlJBj7ehfjpIc4QDW",
      "include_colab_link": true
    },
    "kernelspec": {
      "name": "python3",
      "display_name": "Python 3"
    },
    "language_info": {
      "name": "python"
    }
  },
  "cells": [
    {
      "cell_type": "markdown",
      "metadata": {
        "id": "view-in-github",
        "colab_type": "text"
      },
      "source": [
        "<a href=\"https://colab.research.google.com/github/kjhrthp/evol_ro/blob/master/diffLudobots1.ipynb\" target=\"_parent\"><img src=\"https://colab.research.google.com/assets/colab-badge.svg\" alt=\"Open In Colab\"/></a>"
      ]
    },
    {
      "cell_type": "code",
      "execution_count": 1,
      "metadata": {
        "colab": {
          "base_uri": "https://localhost:8080/"
        },
        "id": "rL76QR5P1Trt",
        "outputId": "469b1f40-8b21-45c6-c836-d8103a9f938d"
      },
      "outputs": [
        {
          "output_type": "stream",
          "name": "stdout",
          "text": [
            "Collecting taichi\n",
            "  Downloading taichi-1.7.3-cp310-cp310-manylinux_2_27_x86_64.whl.metadata (12 kB)\n",
            "Requirement already satisfied: numpy in /usr/local/lib/python3.10/dist-packages (from taichi) (1.26.4)\n",
            "Collecting colorama (from taichi)\n",
            "  Downloading colorama-0.4.6-py2.py3-none-any.whl.metadata (17 kB)\n",
            "Collecting dill (from taichi)\n",
            "  Downloading dill-0.3.9-py3-none-any.whl.metadata (10 kB)\n",
            "Requirement already satisfied: rich in /usr/local/lib/python3.10/dist-packages (from taichi) (13.9.4)\n",
            "Requirement already satisfied: markdown-it-py>=2.2.0 in /usr/local/lib/python3.10/dist-packages (from rich->taichi) (3.0.0)\n",
            "Requirement already satisfied: pygments<3.0.0,>=2.13.0 in /usr/local/lib/python3.10/dist-packages (from rich->taichi) (2.18.0)\n",
            "Requirement already satisfied: typing-extensions<5.0,>=4.0.0 in /usr/local/lib/python3.10/dist-packages (from rich->taichi) (4.12.2)\n",
            "Requirement already satisfied: mdurl~=0.1 in /usr/local/lib/python3.10/dist-packages (from markdown-it-py>=2.2.0->rich->taichi) (0.1.2)\n",
            "Downloading taichi-1.7.3-cp310-cp310-manylinux_2_27_x86_64.whl (55.0 MB)\n",
            "\u001b[2K   \u001b[90m━━━━━━━━━━━━━━━━━━━━━━━━━━━━━━━━━━━━━━━━\u001b[0m \u001b[32m55.0/55.0 MB\u001b[0m \u001b[31m15.2 MB/s\u001b[0m eta \u001b[36m0:00:00\u001b[0m\n",
            "\u001b[?25hDownloading colorama-0.4.6-py2.py3-none-any.whl (25 kB)\n",
            "Downloading dill-0.3.9-py3-none-any.whl (119 kB)\n",
            "\u001b[2K   \u001b[90m━━━━━━━━━━━━━━━━━━━━━━━━━━━━━━━━━━━━━━━━\u001b[0m \u001b[32m119.4/119.4 kB\u001b[0m \u001b[31m9.2 MB/s\u001b[0m eta \u001b[36m0:00:00\u001b[0m\n",
            "\u001b[?25hInstalling collected packages: dill, colorama, taichi\n",
            "Successfully installed colorama-0.4.6 dill-0.3.9 taichi-1.7.3\n"
          ]
        }
      ],
      "source": [
        "!pip3 install taichi"
      ]
    },
    {
      "cell_type": "code",
      "source": [
        "# Taichi is differentiable programming language that's going to let us do this\n",
        "import taichi as ti\n",
        "\n",
        "ground_height = 0.1\n",
        "startingObjectPositions = []\n",
        "startingObjectPositions.append([0.1, 0.2])\n",
        "\n",
        "n_objects = len(startingObjectPositions)\n",
        "\n",
        "# Let's draw the robot and its environment now.\n",
        "# We'll use taichi's built-in Graphical User Interface\n",
        "\n",
        "gui = ti.GUI(\"Robot\", (512, 512), background_color=0xFFFFFF, show_gui = False)\n",
        "# Taichi is going to draw our robot for us, but not open a graphic window.\n",
        "# This is because we're programming in Colab, which doesn't allow that.\n",
        "\n",
        "gui.line(begin=(0, ground_height), end = (1,ground_height), color = 0x0, radius = 3)\n",
        "\n",
        "# robot\n",
        "for object in startingObjectPositions:\n",
        "  x = object[0]\n",
        "  y = object[1]\n",
        "  gui.circle((x,y), color = 0x0, radius=7)\n",
        "\n",
        "gui.show('test.png')"
      ],
      "metadata": {
        "colab": {
          "base_uri": "https://localhost:8080/"
        },
        "id": "bkCJWqNh1tqT",
        "outputId": "61ac74d7-5dd8-42ee-b5b9-95e3df76d8f8"
      },
      "execution_count": 1,
      "outputs": [
        {
          "output_type": "stream",
          "name": "stdout",
          "text": [
            "[Taichi] version 1.7.3, llvm 15.0.4, commit 5ec301be, linux, python 3.10.12\n"
          ]
        }
      ]
    },
    {
      "cell_type": "code",
      "source": [
        "import matplotlib.pyplot as plt\n",
        "import matplotlib.image as mpimg\n",
        "fig = plt.imshow(mpimg.imread('test.png'))"
      ],
      "metadata": {
        "colab": {
          "base_uri": "https://localhost:8080/",
          "height": 435
        },
        "id": "PCqY8KVU6gxB",
        "outputId": "38ede4e4-1a42-46d1-b6dd-ca48d977c270"
      },
      "execution_count": 2,
      "outputs": [
        {
          "output_type": "display_data",
          "data": {
            "text/plain": [
              "<Figure size 640x480 with 1 Axes>"
            ],
            "image/png": "[encoded data removed]"
          },
          "metadata": {}
        }
      ]
    }
  ]
}