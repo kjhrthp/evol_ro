{
  "nbformat": 4,
  "nbformat_minor": 0,
  "metadata": {
    "colab": {
      "provenance": [],
      "authorship_tag": "ABX9TyOA9z3ZOPgL1tTsy6LZUEvl",
      "include_colab_link": true
    },
    "kernelspec": {
      "name": "python3",
      "display_name": "Python 3"
    },
    "language_info": {
      "name": "python"
    }
  },
  "cells": [
    {
      "cell_type": "markdown",
      "metadata": {
        "id": "view-in-github",
        "colab_type": "text"
      },
      "source": [
        "<a href=\"https://colab.research.google.com/github/kjhrthp/evol_ro/blob/master/diffLudobots3.ipynb\" target=\"_parent\"><img src=\"https://colab.research.google.com/assets/colab-badge.svg\" alt=\"Open In Colab\"/></a>"
      ]
    },
    {
      "cell_type": "code",
      "execution_count": 1,
      "metadata": {
        "colab": {
          "base_uri": "https://localhost:8080/"
        },
        "collapsed": true,
        "id": "rL76QR5P1Trt",
        "outputId": "469b1f40-8b21-45c6-c836-d8103a9f938d"
      },
      "outputs": [
        {
          "output_type": "stream",
          "name": "stdout",
          "text": [
            "Collecting taichi\n",
            "  Downloading taichi-1.7.3-cp310-cp310-manylinux_2_27_x86_64.whl.metadata (12 kB)\n",
            "Requirement already satisfied: numpy in /usr/local/lib/python3.10/dist-packages (from taichi) (1.26.4)\n",
            "Collecting colorama (from taichi)\n",
            "  Downloading colorama-0.4.6-py2.py3-none-any.whl.metadata (17 kB)\n",
            "Collecting dill (from taichi)\n",
            "  Downloading dill-0.3.9-py3-none-any.whl.metadata (10 kB)\n",
            "Requirement already satisfied: rich in /usr/local/lib/python3.10/dist-packages (from taichi) (13.9.4)\n",
            "Requirement already satisfied: markdown-it-py>=2.2.0 in /usr/local/lib/python3.10/dist-packages (from rich->taichi) (3.0.0)\n",
            "Requirement already satisfied: pygments<3.0.0,>=2.13.0 in /usr/local/lib/python3.10/dist-packages (from rich->taichi) (2.18.0)\n",
            "Requirement already satisfied: typing-extensions<5.0,>=4.0.0 in /usr/local/lib/python3.10/dist-packages (from rich->taichi) (4.12.2)\n",
            "Requirement already satisfied: mdurl~=0.1 in /usr/local/lib/python3.10/dist-packages (from markdown-it-py>=2.2.0->rich->taichi) (0.1.2)\n",
            "Downloading taichi-1.7.3-cp310-cp310-manylinux_2_27_x86_64.whl (55.0 MB)\n",
            "\u001b[2K   \u001b[90m━━━━━━━━━━━━━━━━━━━━━━━━━━━━━━━━━━━━━━━━\u001b[0m \u001b[32m55.0/55.0 MB\u001b[0m \u001b[31m15.2 MB/s\u001b[0m eta \u001b[36m0:00:00\u001b[0m\n",
            "\u001b[?25hDownloading colorama-0.4.6-py2.py3-none-any.whl (25 kB)\n",
            "Downloading dill-0.3.9-py3-none-any.whl (119 kB)\n",
            "\u001b[2K   \u001b[90m━━━━━━━━━━━━━━━━━━━━━━━━━━━━━━━━━━━━━━━━\u001b[0m \u001b[32m119.4/119.4 kB\u001b[0m \u001b[31m9.2 MB/s\u001b[0m eta \u001b[36m0:00:00\u001b[0m\n",
            "\u001b[?25hInstalling collected packages: dill, colorama, taichi\n",
            "Successfully installed colorama-0.4.6 dill-0.3.9 taichi-1.7.3\n"
          ]
        }
      ],
      "source": [
        "!pip3 install taichi"
      ]
    },
    {
      "cell_type": "code",
      "source": [
        "import taichi as ti\n",
        "\n",
        "\n",
        "max_steps = 10\n",
        "\n",
        "dt =0.01\n",
        "\n",
        "ground_height = 0.1\n",
        "\n",
        "startingObjectPositions = []\n",
        "startingObjectPositions.append([0.1, 0.2])\n",
        "\n",
        "n_objects = len(startingObjectPositions)\n",
        "\n",
        "\n",
        "real = ti.f32\n",
        "ti.init( default_fp = real)\n",
        "\n",
        "vec = lambda: ti.Vector.field(2, dtype=real)\n",
        "\n",
        "positions = vec()\n",
        "\n",
        "velocities = vec()\n",
        "\n",
        "ti.root.dense(ti.i, max_steps).dense(ti.j, n_objects).place(positions)\n",
        "ti.root.dense(ti.i, max_steps).dense(ti.j, n_objects).place(velocities)\n",
        "\n",
        "\n",
        "def Draw(): # encapsulate\n",
        "\n",
        "  for timeStep in range(0, max_steps):\n",
        "    gui = ti.GUI(\"Robot\", (512, 512), background_color=0xFFFFFF, show_gui = False)\n",
        "\n",
        "    gui.line(begin=(0, ground_height), end = (1,ground_height), color = 0x0, radius = 3)\n",
        "\n",
        "    for objectIndex in range(n_objects):\n",
        "\n",
        "      x = positions[timeStep,objectIndex][0]\n",
        "      y = positions[timeStep,objectIndex][1]\n",
        "      # This gets the position of the objectIndex'th object\n",
        "      # at time step : timeStep\n",
        "      gui.circle((x,y), color = 0x0, radius=7)\n",
        "\n",
        "    gui.show('test'+str(timeStep)+'.png')\n",
        "\n",
        "\n",
        "\n",
        "def Initialize():\n",
        "\n",
        "  for objectIndex in range(n_objects):\n",
        "\n",
        "    positions[0,objectIndex] = startingObjectPositions[objectIndex]\n",
        "\n",
        "    velocities[0,objectIndex]=[0,-0.10]\n",
        "\n",
        "\n",
        "def Simulate():\n",
        "\n",
        "  for timeStep in range(1, max_steps):\n",
        "\n",
        "    for objectIndex in range(n_objects):\n",
        "\n",
        "      oldPosition = positions[timeStep-1,objectIndex]\n",
        "\n",
        "      oldVelocity = velocities[timeStep-1, objectIndex]\n",
        "\n",
        "      newPosition = oldPosition + dt * oldVelocity\n",
        "\n",
        "      newVelocity = oldVelocity\n",
        "\n",
        "      positions[timeStep,objectIndex] = newPosition\n",
        "\n",
        "      velocities[timeStep,objectIndex] = newVelocity\n",
        "\n",
        "Initialize()\n",
        "\n",
        "Simulate()\n",
        "\n",
        "Draw()"
      ],
      "metadata": {
        "colab": {
          "base_uri": "https://localhost:8080/"
        },
        "id": "bkCJWqNh1tqT",
        "outputId": "ce874341-7346-408d-fb01-f48ab4bc67c9"
      },
      "execution_count": 7,
      "outputs": [
        {
          "output_type": "stream",
          "name": "stdout",
          "text": [
            "[Taichi] Starting on arch=x64\n"
          ]
        }
      ]
    },
    {
      "cell_type": "code",
      "source": [
        "# creates an mp4 from the png files.\n",
        "import os\n",
        "os.system(\"rm movie.mp4\")\n",
        "os.system(\" ffmpeg -i test%d.png movie.mp4\")"
      ],
      "metadata": {
        "colab": {
          "base_uri": "https://localhost:8080/"
        },
        "id": "PCqY8KVU6gxB",
        "outputId": "cac09cce-760d-4d61-bfe9-be48bd673645"
      },
      "execution_count": 9,
      "outputs": [
        {
          "output_type": "execute_result",
          "data": {
            "text/plain": [
              "0"
            ]
          },
          "metadata": {},
          "execution_count": 9
        }
      ]
    },
    {
      "cell_type": "code",
      "source": [
        "# play the video directly\n",
        "from IPython.display import HTML\n",
        "from base64 import b64encode\n",
        "mp4 = open('movie.mp4', 'rb').read()\n",
        "data_url = \"data:video/mp4;base64,\" + b64encode(mp4).decode()\n",
        "HTML('<video width=512 controls><source src=\"%s\" type=\"video/mp4\"></video>' % data_url)\n"
      ],
      "metadata": {
        "colab": {
          "base_uri": "https://localhost:8080/",
          "height": 532
        },
        "collapsed": true,
        "id": "qvJMGmq6IKe1",
        "outputId": "75b98c01-897e-4461-c4be-e39a64723257"
      },
      "execution_count": 11,
      "outputs": [
        {
          "output_type": "execute_result",
          "data": {
            "text/plain": [
              "<IPython.core.display.HTML object>"
            ],
            "text/html": [
              "<video width=512 controls><source src=\"data:video/mp4;base64,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\" type=\"video/mp4\"></video>"
            ]
          },
          "metadata": {},
          "execution_count": 11
        }
      ]
    },
    {
      "cell_type": "code",
      "source": [],
      "metadata": {
        "id": "1fabdvY_KeQh"
      },
      "execution_count": null,
      "outputs": []
    }
  ]
}